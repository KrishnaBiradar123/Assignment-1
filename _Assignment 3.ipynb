{
 "cells": [
  {
   "cell_type": "code",
   "execution_count": 2,
   "id": "31e160d2",
   "metadata": {},
   "outputs": [],
   "source": [
    "#1.Why are functions advantageous to have in your programs?\n",
    "\n",
    "#Ans: Functions are advantageous because of their reusability and reduce the length of code.\n"
   ]
  },
  {
   "cell_type": "code",
   "execution_count": 3,
   "id": "8d865156",
   "metadata": {},
   "outputs": [],
   "source": [
    "#2.When does the code in a function run: when it's specified or when it's called?\n",
    "\n",
    "#Ans: The code in a function executes when the function is called with its requirements. "
   ]
  },
  {
   "cell_type": "code",
   "execution_count": 4,
   "id": "9e7aeda1",
   "metadata": {},
   "outputs": [],
   "source": [
    "#3.What statement creates a function?\n",
    "\n",
    "#Ans: def function(*args,*kwargs):\n",
    "      #---\"\"\"doc string\"\"\"----\n",
    "      #-----function body----\n",
    "      #----reurn value----"
   ]
  },
  {
   "cell_type": "code",
   "execution_count": null,
   "id": "05d82a7d",
   "metadata": {},
   "outputs": [],
   "source": [
    "#4.What is the difference between a function and a function call?\n",
    "\n",
    "#Ans: Function: it is procedure to get perticular result or to achieve pericular result.\n",
    "      #Function call: it is the reusability of function at any point of project to achieve perticular task or to get specified result."
   ]
  },
  {
   "cell_type": "code",
   "execution_count": 5,
   "id": "002c329c",
   "metadata": {},
   "outputs": [],
   "source": [
    "#5.How many global scopes are there in a Python program? How many local scopes?\n",
    "\n",
    "#Ans: There is one global variable and which are not defined in function.\n",
    "      #There is atleast two local variables but those can be defined in functionn and those cannot be accessed anywhere outside the function."
   ]
  },
  {
   "cell_type": "code",
   "execution_count": 6,
   "id": "c80b2152",
   "metadata": {},
   "outputs": [],
   "source": [
    "#6.What happens to variables in a local scope when the function call returns?\n",
    "\n",
    "#Ans: when the execution of function gets terminated then all the variables in the local scope are destroyed.\n"
   ]
  },
  {
   "cell_type": "code",
   "execution_count": 7,
   "id": "8eee7f5b",
   "metadata": {},
   "outputs": [],
   "source": [
    "#7.What is the concept of a return value? Is it possible to have a return value in an expression?\n",
    "\n",
    "#Ans: :  A return value is the value that a function call evaluates to. Like any value, a return value can be used as part of an expression."
   ]
  },
  {
   "cell_type": "code",
   "execution_count": null,
   "id": "200bd501",
   "metadata": {},
   "outputs": [],
   "source": [
    "#8.If a function does not have a return statement, what is the return value of a call to that function?\n",
    "\n",
    "#Ans: if a function does not have return statement then return value would be None."
   ]
  },
  {
   "cell_type": "code",
   "execution_count": 8,
   "id": "2b3abece",
   "metadata": {},
   "outputs": [],
   "source": [
    "#9.How do you make a function variable refer to the global variable?\n",
    "\n",
    "#Ans: A global statement will force a variable in a function to refer to the global variable. If you want to refer to a global variable in a function, you can use the global keyword to declare which variables are global."
   ]
  },
  {
   "cell_type": "code",
   "execution_count": 9,
   "id": "d41decd8",
   "metadata": {},
   "outputs": [],
   "source": [
    "#10.What is the data type of None?\n",
    "\n",
    "#Ans: data type of None is NoneType."
   ]
  },
  {
   "cell_type": "code",
   "execution_count": 10,
   "id": "6bf179e7",
   "metadata": {},
   "outputs": [],
   "source": [
    "#11.What does the sentence import areallyourpetsnamederic do?\n",
    "\n",
    "#Ans: it imports the module areallyourpetsnamederic."
   ]
  },
  {
   "cell_type": "code",
   "execution_count": 11,
   "id": "7971cef2",
   "metadata": {},
   "outputs": [],
   "source": [
    "#12.If you had a bacon() feature in a spam module, what would you call it after importing spam?\n",
    "\n",
    "#Ans: import spam.bacon() OR from spam import bacon()."
   ]
  },
  {
   "cell_type": "code",
   "execution_count": 12,
   "id": "51d01c59",
   "metadata": {},
   "outputs": [],
   "source": [
    "#13.What can you do to save a programme from crashing if it encounters an error?\n",
    "\n",
    "#Ans: we have to use Try clause to test it and Except clause to handle the encountered error."
   ]
  },
  {
   "cell_type": "code",
   "execution_count": null,
   "id": "2e283673",
   "metadata": {},
   "outputs": [],
   "source": [
    "#14.What is the purpose of the try clause? What is the purpose of the except clause?\n",
    "\n",
    "#Ans: Try clause: it is to test the errors in the block.\n",
    "      #Except clause : it is to handle the errors."
   ]
  },
  {
   "cell_type": "code",
   "execution_count": null,
   "id": "6d90aba6",
   "metadata": {},
   "outputs": [],
   "source": []
  }
 ],
 "metadata": {
  "kernelspec": {
   "display_name": "Python 3 (ipykernel)",
   "language": "python",
   "name": "python3"
  },
  "language_info": {
   "codemirror_mode": {
    "name": "ipython",
    "version": 3
   },
   "file_extension": ".py",
   "mimetype": "text/x-python",
   "name": "python",
   "nbconvert_exporter": "python",
   "pygments_lexer": "ipython3",
   "version": "3.9.12"
  }
 },
 "nbformat": 4,
 "nbformat_minor": 5
}
