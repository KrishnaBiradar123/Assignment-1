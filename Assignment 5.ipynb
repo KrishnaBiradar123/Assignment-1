{
 "cells": [
  {
   "cell_type": "code",
   "execution_count": 1,
   "id": "f64e938b",
   "metadata": {},
   "outputs": [],
   "source": [
    "#1.What does an empty dictionary's code look like?\n",
    "\n",
    "#Ans: {}"
   ]
  },
  {
   "cell_type": "code",
   "execution_count": 5,
   "id": "559d1c36",
   "metadata": {},
   "outputs": [],
   "source": [
    "#2.what is the value of dictionary value with key 'foo' and the value 42 ?\n",
    "\n",
    "#Ans: {'foo':42}"
   ]
  },
  {
   "cell_type": "code",
   "execution_count": 6,
   "id": "32262e0b",
   "metadata": {},
   "outputs": [],
   "source": [
    "#3.What is the most significant distinction between a dictionary and a list?\n",
    "\n",
    "#Ans: dictionary is represented by {} and it holds the elements in key:value pair.\n",
    "      #list is represented by [] and it holds the elements in index form."
   ]
  },
  {
   "cell_type": "code",
   "execution_count": 9,
   "id": "af89fc9e",
   "metadata": {},
   "outputs": [],
   "source": [
    "#4.What happens if you try to access spam ['foo'] if spam is {'bar':100} ?\n",
    "\n",
    "#Ans: it will through  a keyError [KeyError: 'foo']"
   ]
  },
  {
   "cell_type": "code",
   "execution_count": 10,
   "id": "6351ca6f",
   "metadata": {},
   "outputs": [],
   "source": [
    "#5.if a dictionary is stored in spam,what is the difference between the expressions 'cat' in spam and 'cat' in spam.keys() ?\n",
    "\n",
    "#Ans: There is no difference & The operator checks whether a value exits as a key in the dictionary or not."
   ]
  },
  {
   "cell_type": "code",
   "execution_count": null,
   "id": "b7bb8b86",
   "metadata": {},
   "outputs": [],
   "source": [
    "#6.if a dictionary is stored in spam,what is the difference between the expressions 'cat' in spam and 'cat' in spam.values() ?\n",
    "\n",
    "#Ans: 'cat' in spam checks whether there is a 'cat' key in the dictionary, while 'cat' in spam.values() checks whether there is a value 'cat' for one of the keys in spam."
   ]
  },
  {
   "cell_type": "code",
   "execution_count": 19,
   "id": "e3882f0b",
   "metadata": {},
   "outputs": [],
   "source": [
    "#7.what is a shortcut for the following code ? \n",
    "#if 'color' not in spam:\n",
    "#spam['color'] = 'black'\n",
    "\n",
    "#Ans: spam.setdefault('color','black') "
   ]
  },
  {
   "cell_type": "code",
   "execution_count": null,
   "id": "e345db39",
   "metadata": {},
   "outputs": [],
   "source": [
    "#8.How do you 'pretty print' dictionary values using which modules and function ?\n",
    "\n",
    "#Ans:  we can pretty print a dictionary using three functions\n",
    "       #by using pprint() function of pprint module\n",
    "       #Note: pprint() function doesnot prettify nested dictionaries\n",
    "       #by using dumps() method of json module\n",
    "       #by using dumps() method of yaml module"
   ]
  },
  {
   "cell_type": "code",
   "execution_count": 31,
   "id": "b9790ac1",
   "metadata": {},
   "outputs": [],
   "source": [
    "dictonary =[\n",
    "    {\"name\":\"krishna\",\"surname\":\"biradar\"},\n",
    "            {\"name1\":\"tirupati\",\"surname\":\"biradar\"},\n",
    "            {\"name2\":\"venkatesh\",\"surname\":\"biradar\"}\n",
    "            ]"
   ]
  },
  {
   "cell_type": "code",
   "execution_count": 32,
   "id": "cc81312f",
   "metadata": {},
   "outputs": [
    {
     "name": "stdout",
     "output_type": "stream",
     "text": [
      "[{'name': 'krishna', 'surname': 'biradar'},\n",
      " {'name1': 'tirupati', 'surname': 'biradar'},\n",
      " {'name2': 'venkatesh', 'surname': 'biradar'}]\n"
     ]
    }
   ],
   "source": [
    "import pprint\n",
    "pprint.pprint(dictonary)"
   ]
  },
  {
   "cell_type": "code",
   "execution_count": 45,
   "id": "650a68a2",
   "metadata": {},
   "outputs": [
    {
     "data": {
      "text/plain": [
       "'[{\"name\": \"krishna\", \"surname\": \"biradar\"}, {\"name1\": \"tirupati\", \"surname\": \"biradar\"}, {\"name2\": \"venkatesh\", \"surname\": \"biradar\"}]'"
      ]
     },
     "execution_count": 45,
     "metadata": {},
     "output_type": "execute_result"
    }
   ],
   "source": [
    "import json\n",
    "json.dumps(dictonary)"
   ]
  },
  {
   "cell_type": "code",
   "execution_count": 48,
   "id": "e1e0ca7f",
   "metadata": {},
   "outputs": [
    {
     "data": {
      "text/plain": [
       "'- name: krishna\\n  surname: biradar\\n- name1: tirupati\\n  surname: biradar\\n- name2: venkatesh\\n  surname: biradar\\n'"
      ]
     },
     "execution_count": 48,
     "metadata": {},
     "output_type": "execute_result"
    }
   ],
   "source": [
    "import yaml\n",
    "yaml.dump(dictonary)"
   ]
  }
 ],
 "metadata": {
  "kernelspec": {
   "display_name": "Python 3 (ipykernel)",
   "language": "python",
   "name": "python3"
  },
  "language_info": {
   "codemirror_mode": {
    "name": "ipython",
    "version": 3
   },
   "file_extension": ".py",
   "mimetype": "text/x-python",
   "name": "python",
   "nbconvert_exporter": "python",
   "pygments_lexer": "ipython3",
   "version": "3.9.12"
  }
 },
 "nbformat": 4,
 "nbformat_minor": 5
}
