{
 "cells": [
  {
   "cell_type": "code",
   "execution_count": null,
   "id": "2a79fcae",
   "metadata": {},
   "outputs": [],
   "source": [
    "#1.What does RGBA stand for?\n",
    "\n",
    "#Ans: RGBA is a four-channel format containing data for Red, Green, Blue, and an Alpha value. Where Alpha Represents the Opacity"
   ]
  },
  {
   "cell_type": "code",
   "execution_count": null,
   "id": "723fe9b8",
   "metadata": {},
   "outputs": [],
   "source": [
    "#2.From the Pillow module, how do you get the RGBA value of any images?\n",
    "\n",
    "#Ans: ImageColor.getcolor() gives rgba value of any image"
   ]
  },
  {
   "cell_type": "code",
   "execution_count": 1,
   "id": "6ad305a8",
   "metadata": {},
   "outputs": [],
   "source": [
    "#3.What is a box tuple, and how does it work?\n",
    "\n",
    "#Ans: A box tuple is a tuple value of four integers: the left-edge x-coordinate, the top-edge y-coordinate,the width, and the height, respectively."
   ]
  },
  {
   "cell_type": "code",
   "execution_count": 4,
   "id": "38ded162",
   "metadata": {},
   "outputs": [
    {
     "name": "stdout",
     "output_type": "stream",
     "text": [
      "Width, Height -> (640, 400)\n",
      "Width, Height -> 640,400\n",
      "Width, Height -> 640,400\n"
     ]
    }
   ],
   "source": [
    "#4.Use your image and load in notebook then, How can you find out the width and height of an Image object?\n",
    "\n",
    "#Ans:\n",
    "\n",
    "#Example Program\n",
    "from PIL import Image\n",
    "pic = Image.open(r\"C:\\Users\\Student\\Pictures\\images.jpg\")\n",
    "print(f'Width, Height -> {pic.size}') # Approach 1\n",
    "print(f'Width, Height -> {pic.width},{pic.height}') # Approach 2\n",
    "width,height = pic.size\n",
    "print(f'Width, Height -> {width},{height}') # Approach 3"
   ]
  },
  {
   "cell_type": "code",
   "execution_count": 6,
   "id": "82e84f7f",
   "metadata": {},
   "outputs": [],
   "source": [
    "#5.What method would you call to get Image object for a 100×100 image, excluding the lower-left quarter of it?\n",
    "\n",
    "#Ans:\n",
    "from PIL import Image\n",
    "img = Image.open(r\"C:\\Users\\Student\\Pictures\\images.jpg\")\n",
    "new_img = img.crop((0,50,50,50))\n",
    "6. After making changes to an Image object, how could you save it as an image file?\n",
    "#Example Program\n",
    "from PIL import Image\n",
    "pic = Image.open(r\"C:\\Users\\Student\\Pictures\\images.jpg\")\n",
    "pic.save(r\"C:\\Users\\Student\\Pictures\\images.jpg\")"
   ]
  },
  {
   "cell_type": "code",
   "execution_count": 7,
   "id": "0ed06500",
   "metadata": {},
   "outputs": [],
   "source": [
    "#7.What module contains Pillow’s shape-drawing code?\n",
    "\n",
    "#Ans: Pillows ImageDraw module contains Shape drawing methods"
   ]
  },
  {
   "cell_type": "code",
   "execution_count": 8,
   "id": "3d0432d9",
   "metadata": {},
   "outputs": [],
   "source": [
    "#8.Image objects do not have drawing methods. What kind of object does? How do you get this kind of object?\n",
    "\n",
    "#Ans: ImageDraw objects have shape-drawing methods such as point(), line(), or rectangle().They are returned by passing the Image object to the ImageDraw.Draw() function."
   ]
  },
  {
   "cell_type": "code",
   "execution_count": null,
   "id": "b20c3d5e",
   "metadata": {},
   "outputs": [],
   "source": []
  }
 ],
 "metadata": {
  "kernelspec": {
   "display_name": "Python 3 (ipykernel)",
   "language": "python",
   "name": "python3"
  },
  "language_info": {
   "codemirror_mode": {
    "name": "ipython",
    "version": 3
   },
   "file_extension": ".py",
   "mimetype": "text/x-python",
   "name": "python",
   "nbconvert_exporter": "python",
   "pygments_lexer": "ipython3",
   "version": "3.9.12"
  }
 },
 "nbformat": 4,
 "nbformat_minor": 5
}
