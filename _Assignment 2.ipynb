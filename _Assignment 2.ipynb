{
 "cells": [
  {
   "cell_type": "markdown",
   "id": "c1167601",
   "metadata": {},
   "source": [
    "1.What are the two values of the Boolean data type? How do you write them?"
   ]
  },
  {
   "cell_type": "markdown",
   "id": "edc8192e",
   "metadata": {},
   "source": [
    "Ans:The two values of boolean data type are True and False.\n",
    "    \n",
    "    we should write first letter in uppercase i.e True and False."
   ]
  },
  {
   "cell_type": "markdown",
   "id": "8df57fad",
   "metadata": {},
   "source": [
    "2.What are the three different types of Boolean operators?"
   ]
  },
  {
   "cell_type": "markdown",
   "id": "01ac9fac",
   "metadata": {},
   "source": [
    "Ans: and-- or-- not"
   ]
  },
  {
   "cell_type": "markdown",
   "id": "e486b93b",
   "metadata": {},
   "source": [
    "3.Make a list of each Boolean operator's truth tables (i.e. every possible combination of Boolean values for the operator and what it evaluate )."
   ]
  },
  {
   "cell_type": "markdown",
   "id": "e6d32c59",
   "metadata": {},
   "source": [
    "Ans:  and-- True and True-----True_____________________________or--- True and True-----True\n",
    "           \n",
    "           True and False----False                           True or False----True\n",
    "            \n",
    "            \n",
    "            False and True----False                          False or True----True\n",
    "            \n",
    "            \n",
    "            False and False---False                          False or False---False\n",
    "            \n",
    "              \n",
    "                                  not----not True is False.\n",
    "                                         not False is True."
   ]
  },
  {
   "cell_type": "markdown",
   "id": "f3302b7b",
   "metadata": {},
   "source": [
    "4.What are the values of the following expressions?"
   ]
  },
  {
   "cell_type": "code",
   "execution_count": 35,
   "id": "3554c53f",
   "metadata": {},
   "outputs": [
    {
     "data": {
      "text/plain": [
       "False"
      ]
     },
     "execution_count": 35,
     "metadata": {},
     "output_type": "execute_result"
    }
   ],
   "source": [
    "(5 > 4) and (3 == 5)"
   ]
  },
  {
   "cell_type": "code",
   "execution_count": 36,
   "id": "085248a2",
   "metadata": {},
   "outputs": [
    {
     "data": {
      "text/plain": [
       "False"
      ]
     },
     "execution_count": 36,
     "metadata": {},
     "output_type": "execute_result"
    }
   ],
   "source": [
    "not (5 > 4)"
   ]
  },
  {
   "cell_type": "code",
   "execution_count": 37,
   "id": "10071694",
   "metadata": {},
   "outputs": [
    {
     "data": {
      "text/plain": [
       "True"
      ]
     },
     "execution_count": 37,
     "metadata": {},
     "output_type": "execute_result"
    }
   ],
   "source": [
    "(5 > 4) or (3 == 5)"
   ]
  },
  {
   "cell_type": "code",
   "execution_count": 38,
   "id": "206aaaa3",
   "metadata": {},
   "outputs": [
    {
     "data": {
      "text/plain": [
       "False"
      ]
     },
     "execution_count": 38,
     "metadata": {},
     "output_type": "execute_result"
    }
   ],
   "source": [
    "not ((5 > 4) or (3 == 5))"
   ]
  },
  {
   "cell_type": "code",
   "execution_count": 39,
   "id": "b2308289",
   "metadata": {},
   "outputs": [
    {
     "data": {
      "text/plain": [
       "False"
      ]
     },
     "execution_count": 39,
     "metadata": {},
     "output_type": "execute_result"
    }
   ],
   "source": [
    "(True and True) and (True == False)"
   ]
  },
  {
   "cell_type": "code",
   "execution_count": 40,
   "id": "9272789c",
   "metadata": {},
   "outputs": [
    {
     "data": {
      "text/plain": [
       "True"
      ]
     },
     "execution_count": 40,
     "metadata": {},
     "output_type": "execute_result"
    }
   ],
   "source": [
    "(not False) or (not True)"
   ]
  },
  {
   "cell_type": "markdown",
   "id": "92686707",
   "metadata": {},
   "source": [
    "5. What are the six comparison operators?"
   ]
  },
  {
   "cell_type": "code",
   "execution_count": 41,
   "id": "8490d198",
   "metadata": {},
   "outputs": [],
   "source": [
    "#Ans:the six comparision operators are:\n",
    "\n",
    "## != not equal to\n",
    "## == equal to\n",
    "## >= greater than equal to\n",
    "## <= less than equal to\n",
    "## > greater than\n",
    "## < less than"
   ]
  },
  {
   "cell_type": "markdown",
   "id": "479b8299",
   "metadata": {},
   "source": [
    "6.How do you tell the difference between the equal to and assignment operators?Describe a condition and when you would use one."
   ]
  },
  {
   "cell_type": "code",
   "execution_count": 42,
   "id": "46c854e0",
   "metadata": {},
   "outputs": [],
   "source": [
    "#for assigning value to variable we use one equal to symbol i.e = \n",
    "#for comparision of assigned value we use two equal to symbol i.e ==\n",
    "#example: a=10,b=20,c=30 (for assigning)\n",
    "          #if a==20 or b==20 and c==30 (for comparision)"
   ]
  },
  {
   "cell_type": "code",
   "execution_count": 43,
   "id": "e706872d",
   "metadata": {},
   "outputs": [],
   "source": [
    "#7.Identify the three blocks in this code:\n",
    "#spam = 0\n",
    "#if spam == 10:\n",
    "#print('eggs')>>>>>>>>>>>>>>>>>First Block\n",
    "#if spam > 5:\n",
    "#print('bacon')>>>>>>>>>>>>>>>>Second Block\n",
    "#else:\n",
    "#print('ham') >>>>>>>>>>>>>>>>>>Third Block\n",
    "#print('spam')\n",
    "#print('spam')\n"
   ]
  },
  {
   "cell_type": "markdown",
   "id": "fefe3be0",
   "metadata": {},
   "source": [
    "8.Write code that prints Hello if 1 is stored in spam, prints Howdy if 2 is stored in spam, and prints Greetings! if anything else is stored in spam."
   ]
  },
  {
   "cell_type": "code",
   "execution_count": 45,
   "id": "2b0300ed",
   "metadata": {},
   "outputs": [
    {
     "name": "stdout",
     "output_type": "stream",
     "text": [
      "Enter value--1\n",
      "Hello\n"
     ]
    }
   ],
   "source": [
    "spam=int(input(\"Enter value--\"))\n",
    "if spam==1:\n",
    "    print(\"Hello\")\n",
    "elif spam==2:\n",
    "    print(\"Howdy\")\n",
    "else:\n",
    "    print(\"Greetings!\")"
   ]
  },
  {
   "cell_type": "code",
   "execution_count": 46,
   "id": "805ba6aa",
   "metadata": {},
   "outputs": [
    {
     "name": "stdout",
     "output_type": "stream",
     "text": [
      "Enter value--2\n",
      "Howdy\n"
     ]
    }
   ],
   "source": [
    "spam=int(input(\"Enter value--\"))\n",
    "if spam==1:\n",
    "    print(\"Hello\")\n",
    "elif spam==2:\n",
    "    print(\"Howdy\")\n",
    "else:\n",
    "    print(\"Greetings!\")"
   ]
  },
  {
   "cell_type": "code",
   "execution_count": 48,
   "id": "8df8f48b",
   "metadata": {},
   "outputs": [
    {
     "name": "stdout",
     "output_type": "stream",
     "text": [
      "Enter value--33\n",
      "Greetings!\n"
     ]
    }
   ],
   "source": [
    "spam=int(input(\"Enter value--\"))\n",
    "if spam==1:\n",
    "    print(\"Hello\")\n",
    "elif spam==2:\n",
    "    print(\"Howdy\")\n",
    "else:\n",
    "    print(\"Greetings!\")"
   ]
  },
  {
   "cell_type": "markdown",
   "id": "07455191",
   "metadata": {},
   "source": [
    "9.If your programme is stuck in an endless loop, what keys you’ll press?"
   ]
  },
  {
   "cell_type": "markdown",
   "id": "7930f8ed",
   "metadata": {},
   "source": [
    "Ans:CTRL+C is the key used to stop the infinite loop."
   ]
  },
  {
   "cell_type": "markdown",
   "id": "c14a0d5f",
   "metadata": {},
   "source": [
    "10.How can you tell the difference between break and continue?"
   ]
  },
  {
   "cell_type": "code",
   "execution_count": 49,
   "id": "503dd502",
   "metadata": {},
   "outputs": [],
   "source": [
    "#Break: break is reserved keyword which moves outside if it satisfied with given condition.\n",
    "#contineous: contineous is reserved keyword which moves directly to start point if it satisfied "
   ]
  },
  {
   "cell_type": "markdown",
   "id": "f7c08fbf",
   "metadata": {},
   "source": [
    "11.In a for loop, what is the difference between range(10), range(0, 10), and range(0, 10, 1)?"
   ]
  },
  {
   "cell_type": "code",
   "execution_count": 50,
   "id": "3dfd80fb",
   "metadata": {},
   "outputs": [],
   "source": [
    "#Ans:\n",
    "#The range(10) call range from 0 to 9 (but not include 10 and here there is no lower bound by default it is 0)\n",
    "#The range (0,10) explicitly tells the loop to start at 0 and it shows the what exactly lower bound is.\n",
    "#The range(0,10,1) explicitly tells the loop to increase the variable by 1 on each iteration"
   ]
  },
  {
   "cell_type": "markdown",
   "id": "1061e52e",
   "metadata": {},
   "source": [
    "12.Write a short program that prints the numbers 1 to 10 using a for loop. Then write an equivalent program that prints the numbers 1 to 10 using a while loop."
   ]
  },
  {
   "cell_type": "code",
   "execution_count": 51,
   "id": "80bdcf0c",
   "metadata": {},
   "outputs": [
    {
     "name": "stdout",
     "output_type": "stream",
     "text": [
      "1\n",
      "2\n",
      "3\n",
      "4\n",
      "5\n",
      "6\n",
      "7\n",
      "8\n",
      "9\n",
      "10\n"
     ]
    }
   ],
   "source": [
    "#for loop\n",
    "for i in range(1,11):\n",
    "        print(i)"
   ]
  },
  {
   "cell_type": "code",
   "execution_count": 52,
   "id": "54eddc6c",
   "metadata": {},
   "outputs": [
    {
     "name": "stdout",
     "output_type": "stream",
     "text": [
      "1\n",
      "2\n",
      "3\n",
      "4\n",
      "5\n",
      "6\n",
      "7\n",
      "8\n",
      "9\n",
      "10\n"
     ]
    }
   ],
   "source": [
    "#while loop\n",
    "a=1\n",
    "b=20\n",
    "while a<=b:\n",
    "    print(a)\n",
    "    if a==10:\n",
    "        break\n",
    "    a=a+1"
   ]
  },
  {
   "cell_type": "markdown",
   "id": "ceb9deb2",
   "metadata": {},
   "source": [
    "13.If you had a function named bacon() inside a module named spam, how would you call it after importing spam?\n",
    "\n"
   ]
  },
  {
   "cell_type": "markdown",
   "id": "529c2d36",
   "metadata": {},
   "source": [
    "Ans:we can write it as--spam.bacon()"
   ]
  },
  {
   "cell_type": "code",
   "execution_count": null,
   "id": "c8842640",
   "metadata": {},
   "outputs": [],
   "source": []
  }
 ],
 "metadata": {
  "kernelspec": {
   "display_name": "Python 3 (ipykernel)",
   "language": "python",
   "name": "python3"
  },
  "language_info": {
   "codemirror_mode": {
    "name": "ipython",
    "version": 3
   },
   "file_extension": ".py",
   "mimetype": "text/x-python",
   "name": "python",
   "nbconvert_exporter": "python",
   "pygments_lexer": "ipython3",
   "version": "3.9.12"
  }
 },
 "nbformat": 4,
 "nbformat_minor": 5
}
