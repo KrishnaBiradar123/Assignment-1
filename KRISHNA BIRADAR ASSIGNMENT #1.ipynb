{
 "cells": [
  {
   "cell_type": "raw",
   "id": "7cf3153f",
   "metadata": {},
   "source": [
    "1. In the below elements which of them are values or an expression? eg:- values can be integer or string and expressions will be mathematical operators.\n",
    "* \n",
    "'hello'\n",
    "-87.8\n",
    "- \n",
    "/ \n",
    "+\t\n",
    "6 \n"
   ]
  },
  {
   "cell_type": "raw",
   "id": "270ef429",
   "metadata": {},
   "source": [
    "Ans #1: values:       'hello', 6, -87.8\n",
    "        \n",
    "        expressions:   *,   -,    /,    +   "
   ]
  },
  {
   "cell_type": "raw",
   "id": "a0407447",
   "metadata": {},
   "source": []
  },
  {
   "cell_type": "markdown",
   "id": "48f8464a",
   "metadata": {},
   "source": [
    "2. What is the difference between string and variable?"
   ]
  },
  {
   "cell_type": "raw",
   "id": "6e8b6d50",
   "metadata": {},
   "source": [
    "Ans #2:                     string                                                          variable\n",
    "        *string should be written in the form of \"---\" and '---'.            *variable is thing in which stores data."
   ]
  },
  {
   "cell_type": "raw",
   "id": "9d29ff34",
   "metadata": {},
   "source": []
  },
  {
   "cell_type": "markdown",
   "id": "94f27a70",
   "metadata": {},
   "source": [
    "3. Describe three different data types."
   ]
  },
  {
   "cell_type": "markdown",
   "id": "4daeb2c4",
   "metadata": {},
   "source": [
    "Ans#3: List: we can store diffrent kind of data in list.\n",
    "\n",
    "       integer : here we can store only numericals or digits.\n",
    "        \n",
    "       boolean : here we can store True/False type data and this type data is used for identifier.\n",
    "        "
   ]
  },
  {
   "cell_type": "markdown",
   "id": "9df25eee",
   "metadata": {},
   "source": [
    "4. What is an expression made up of? What do all expressions do?"
   ]
  },
  {
   "cell_type": "raw",
   "id": "42588687",
   "metadata": {},
   "source": [
    "Ans#4:      Expression : it is combination of operators, variables and constants to represent a value. for example: X+Y-6=Z\n",
    "            expressions does represent values which is combinition of operators, variables and constants.\n",
    "        "
   ]
  },
  {
   "cell_type": "code",
   "execution_count": null,
   "id": "a8b0d4ba",
   "metadata": {},
   "outputs": [],
   "source": []
  },
  {
   "cell_type": "markdown",
   "id": "ef078163",
   "metadata": {},
   "source": [
    "5. This assignment statements, like spam = 10. What is the difference between an expression and a statement?"
   ]
  },
  {
   "cell_type": "raw",
   "id": "38028348",
   "metadata": {},
   "source": [
    "Ans#5:  Expression contains operators, variables and constants:\n",
    "        Statement contains only command just like combination of words to print in python interpretor."
   ]
  },
  {
   "cell_type": "markdown",
   "id": "cd7a727a",
   "metadata": {},
   "source": [
    "6. After running the following code, what does the variable bacon contain?\n",
    "bacon = 22\n",
    "bacon + 1\n"
   ]
  },
  {
   "cell_type": "code",
   "execution_count": 6,
   "id": "97cd89c0",
   "metadata": {},
   "outputs": [
    {
     "data": {
      "text/plain": [
       "23"
      ]
     },
     "execution_count": 6,
     "metadata": {},
     "output_type": "execute_result"
    }
   ],
   "source": [
    "bacon=22\n",
    "bacon+1"
   ]
  },
  {
   "cell_type": "markdown",
   "id": "282e844c",
   "metadata": {},
   "source": [
    "after the above code variable bacon contains  23"
   ]
  },
  {
   "cell_type": "code",
   "execution_count": null,
   "id": "94d00bf3",
   "metadata": {},
   "outputs": [],
   "source": []
  },
  {
   "cell_type": "markdown",
   "id": "42d5cbe7",
   "metadata": {},
   "source": [
    "7. What should the values of the following two terms be?\n",
    "'spam' + 'spamspam'\n"
   ]
  },
  {
   "cell_type": "code",
   "execution_count": 9,
   "id": "e69a0ad4",
   "metadata": {},
   "outputs": [
    {
     "data": {
      "text/plain": [
       "'spamspamspam'"
      ]
     },
     "execution_count": 9,
     "metadata": {},
     "output_type": "execute_result"
    }
   ],
   "source": [
    "'spam' + 'spamspam'"
   ]
  },
  {
   "cell_type": "code",
   "execution_count": 8,
   "id": "35131515",
   "metadata": {},
   "outputs": [
    {
     "data": {
      "text/plain": [
       "'spamspamspam'"
      ]
     },
     "execution_count": 8,
     "metadata": {},
     "output_type": "execute_result"
    }
   ],
   "source": [
    "'spam'*3"
   ]
  },
  {
   "cell_type": "code",
   "execution_count": null,
   "id": "39bbdf51",
   "metadata": {},
   "outputs": [],
   "source": []
  },
  {
   "cell_type": "markdown",
   "id": "dc4e2a83",
   "metadata": {},
   "source": [
    "8. Why is eggs a valid variable name while 100 is invalid?"
   ]
  },
  {
   "cell_type": "markdown",
   "id": "333f73ac",
   "metadata": {},
   "source": [
    "Ans#8: we can't store input as integer because python won't recognize it. so instead of this we can use eggs10, eggs00, eggs100 etc."
   ]
  },
  {
   "cell_type": "code",
   "execution_count": null,
   "id": "96cbe839",
   "metadata": {},
   "outputs": [],
   "source": []
  },
  {
   "cell_type": "markdown",
   "id": "80ea7daf",
   "metadata": {},
   "source": [
    "9. What three functions can be used to get the integer, floating-point number, or string version of a value?"
   ]
  },
  {
   "cell_type": "raw",
   "id": "6f4ebef3",
   "metadata": {},
   "source": [
    "Ans#9: str(), int(), float() these are the three functions that we can use to get integer, floating-point number or string version value."
   ]
  },
  {
   "cell_type": "code",
   "execution_count": null,
   "id": "60ccaeb3",
   "metadata": {},
   "outputs": [],
   "source": []
  },
  {
   "cell_type": "markdown",
   "id": "91ba987b",
   "metadata": {},
   "source": [
    "10. Why does this expression cause an error? How can you fix it?\n",
    "'I have eaten ' + 99 + ' burritos.'\n"
   ]
  },
  {
   "cell_type": "raw",
   "id": "d494613d",
   "metadata": {},
   "source": [
    "Ans#10: it cause error because in the above problem we are trying to do concatenate operation between 'str' and 'int'. so in           python while doing concatenate operation we should use same data type i.e 'str'.\n",
    "        we can solve the above problem by converting 'int' type data into 'str' type data then we can fix the error.\n"
   ]
  },
  {
   "cell_type": "code",
   "execution_count": 10,
   "id": "b8571d1e",
   "metadata": {},
   "outputs": [
    {
     "data": {
      "text/plain": [
       "'i have eaten99burritos'"
      ]
     },
     "execution_count": 10,
     "metadata": {},
     "output_type": "execute_result"
    }
   ],
   "source": [
    "'i have eaten' + '99' + 'burritos'"
   ]
  },
  {
   "cell_type": "code",
   "execution_count": null,
   "id": "18a15574",
   "metadata": {},
   "outputs": [],
   "source": []
  }
 ],
 "metadata": {
  "kernelspec": {
   "display_name": "Python 3 (ipykernel)",
   "language": "python",
   "name": "python3"
  },
  "language_info": {
   "codemirror_mode": {
    "name": "ipython",
    "version": 3
   },
   "file_extension": ".py",
   "mimetype": "text/x-python",
   "name": "python",
   "nbconvert_exporter": "python",
   "pygments_lexer": "ipython3",
   "version": "3.9.12"
  }
 },
 "nbformat": 4,
 "nbformat_minor": 5
}
