{
 "cells": [
  {
   "cell_type": "code",
   "execution_count": 1,
   "id": "2039eefb",
   "metadata": {},
   "outputs": [],
   "source": [
    "#1.What exactly is []?\n",
    "\n",
    "#Ans: [] is a list that contains no items & also called Empty list."
   ]
  },
  {
   "cell_type": "code",
   "execution_count": null,
   "id": "2d6178f4",
   "metadata": {},
   "outputs": [],
   "source": [
    "#2.In a list of values stored in a variable called spam, how would you assign the value 'hello' as the third value? (Assume [2, 4, 6, 8, 10] are in spam).\n",
    "\n",
    "#Ans: spam[2]='hello'"
   ]
  },
  {
   "cell_type": "markdown",
   "id": "3055028f",
   "metadata": {},
   "source": [
    "Let's pretend the spam includes the list ['a','b','c','d'] for the next three queries.\n"
   ]
  },
  {
   "cell_type": "code",
   "execution_count": 14,
   "id": "b6658580",
   "metadata": {},
   "outputs": [],
   "source": [
    "#3.What is the value of spam[int(int('3'* 2)/11)]?\n",
    "\n",
    "#Ans: spam[int(int('3'* 2)/11)] = 4"
   ]
  },
  {
   "cell_type": "code",
   "execution_count": 17,
   "id": "e9673061",
   "metadata": {},
   "outputs": [],
   "source": [
    "#4.What is the value of spam[-1]?\n",
    "\n",
    "#Ans: spam[-1]='d'"
   ]
  },
  {
   "cell_type": "code",
   "execution_count": null,
   "id": "06acc7b0",
   "metadata": {},
   "outputs": [],
   "source": [
    "#5.What is the value of spam[:2]?\n",
    "\n",
    "#Ans: spam[:2] = ['a','b']"
   ]
  },
  {
   "cell_type": "markdown",
   "id": "a0fca0c6",
   "metadata": {},
   "source": [
    "Let's pretend bacon has the list [3.14,'cat',11,'cat',True] for the next three questions.\n",
    " "
   ]
  },
  {
   "cell_type": "code",
   "execution_count": 23,
   "id": "b04f600c",
   "metadata": {},
   "outputs": [],
   "source": [
    "#6.What is the value of bacon.index('cat')?\n",
    "\n",
    "#Ans: bacon.index('cat')= 1"
   ]
  },
  {
   "cell_type": "code",
   "execution_count": 27,
   "id": "379b9e01",
   "metadata": {},
   "outputs": [],
   "source": [
    "#7.How does bacon.append(99) change the look of the list value in bacon?\n",
    "\n",
    "#Ans: bacon.append(99)= [3.14, 'cat', 11, 'cat', True, 99] it adds the value at the very last index of list."
   ]
  },
  {
   "cell_type": "code",
   "execution_count": 30,
   "id": "24717213",
   "metadata": {},
   "outputs": [],
   "source": [
    "#8.How does bacon.remove('cat') change the look of the list in bacon?\n",
    "\n",
    "#Ans: bacon.rempove('cat')= [3.14, 11, 'cat', True, 99] it removes the value which is specified in argument. if list contains two or more values of same name then this argument takes exactly first index of values having same name."
   ]
  },
  {
   "cell_type": "code",
   "execution_count": 31,
   "id": "f37a7fce",
   "metadata": {},
   "outputs": [],
   "source": [
    "#9.What are the list concatenation and list replication operators?\n",
    "\n",
    "#Ans: list concatination operator is + \n",
    "      #list replication operator  is *"
   ]
  },
  {
   "cell_type": "code",
   "execution_count": 33,
   "id": "f44500eb",
   "metadata": {},
   "outputs": [],
   "source": [
    "#10.what is the difference between the list method append() and insert()?\n",
    "\n",
    "#Ans: list method append()= Append object to the end of the list.\n",
    "      #list method insert()= Insert object before index."
   ]
  },
  {
   "cell_type": "code",
   "execution_count": 82,
   "id": "4db02147",
   "metadata": {},
   "outputs": [],
   "source": [
    "#11.What are the two methods for removing items from a list?\n",
    "\n",
    "#Ans: remove() & pop are the two methods for removing items from a list."
   ]
  },
  {
   "cell_type": "code",
   "execution_count": null,
   "id": "903217a5",
   "metadata": {},
   "outputs": [],
   "source": [
    "#12.Describe how list values and string values are identical.\n",
    "\n",
    "#Ans: strings values values are returned in '---'   while list values are returned in [-,-,-,-] & these are seperated by comma."
   ]
  },
  {
   "cell_type": "code",
   "execution_count": 88,
   "id": "cd1e16f0",
   "metadata": {},
   "outputs": [],
   "source": [
    "#13.What's the difference between tuples and lists?\n",
    "\n",
    "#Ans: Tuples: tuples are immutable and these are representted by ().\n",
    "      #Lists: lists are mutable and these are represented by [].\n",
    "    "
   ]
  },
  {
   "cell_type": "code",
   "execution_count": 89,
   "id": "f598fb85",
   "metadata": {},
   "outputs": [],
   "source": [
    "#14.How do you type a tuple value that only contains the integer 42?\n",
    "\n",
    "#Ans: (42,)"
   ]
  },
  {
   "cell_type": "code",
   "execution_count": 94,
   "id": "4858b1d2",
   "metadata": {},
   "outputs": [],
   "source": [
    "#15.How do you get a list value's tuple form? How do you get a tuple value's list form?\n",
    "\n",
    "#Ans: tuple(list) & list(tuple)"
   ]
  },
  {
   "cell_type": "code",
   "execution_count": 95,
   "id": "98c6c8b0",
   "metadata": {},
   "outputs": [],
   "source": [
    "#16.Variables that \"contain\" list values are not necessarily lists themselves. Instead, what do they contain?\n",
    "\n",
    "#Ans: They contain references to list values."
   ]
  },
  {
   "cell_type": "code",
   "execution_count": null,
   "id": "4325a24d",
   "metadata": {},
   "outputs": [],
   "source": [
    "#17.How do you distinguish between copy.copy() and copy.deepcopy()?\n",
    "\n",
    "#Ans: The copy.copy() function will do a shallow copy of a list, while the copy.deepcopy() function will do a deep copy of a list. i.e copy.deepcopy() will duplicate any lists inside the list."
   ]
  }
 ],
 "metadata": {
  "kernelspec": {
   "display_name": "Python 3 (ipykernel)",
   "language": "python",
   "name": "python3"
  },
  "language_info": {
   "codemirror_mode": {
    "name": "ipython",
    "version": 3
   },
   "file_extension": ".py",
   "mimetype": "text/x-python",
   "name": "python",
   "nbconvert_exporter": "python",
   "pygments_lexer": "ipython3",
   "version": "3.9.12"
  }
 },
 "nbformat": 4,
 "nbformat_minor": 5
}
