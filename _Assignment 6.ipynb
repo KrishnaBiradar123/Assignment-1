{
 "cells": [
  {
   "cell_type": "code",
   "execution_count": 2,
   "id": "c260c7a0",
   "metadata": {},
   "outputs": [],
   "source": [
    "#1.What are escape characters, and how do you use them?\n",
    "\n",
    "#Ans: To insert characters which are illegal in a string, use an escape character. An escape character is a backslash \\ followed by the character we want to insert."
   ]
  },
  {
   "cell_type": "code",
   "execution_count": 3,
   "id": "6059fd20",
   "metadata": {},
   "outputs": [],
   "source": [
    "#2.What do the escape characters n and t stand for ?\n",
    "\n",
    "#Ans: \\n is a newline, \\t is a tab"
   ]
  },
  {
   "cell_type": "code",
   "execution_count": null,
   "id": "0eb4420f",
   "metadata": {},
   "outputs": [],
   "source": [
    "#3.What is the way to include backslash character in a string?\n",
    "\n",
    "#Ans: The \\\\ escape character will represent the backslash character in a string"
   ]
  },
  {
   "cell_type": "code",
   "execution_count": null,
   "id": "5c62dc33",
   "metadata": {},
   "outputs": [],
   "source": [
    "#4.The string \"Howl's Moving Castle\" is a correct value. Why isn't the single quote character in the word Howl's not escaped a problem ?\n",
    "\n",
    "#Ans: Because it is wrapped with double quote. if it is quoted inside single quote then we have to use escape character like Howl\\'s"
   ]
  },
  {
   "cell_type": "code",
   "execution_count": 4,
   "id": "bad2472c",
   "metadata": {},
   "outputs": [
    {
     "name": "stdout",
     "output_type": "stream",
     "text": [
      "Krishna\n",
      "Biradar\n"
     ]
    }
   ],
   "source": [
    "#5.How do you write a string of newlines if you don't want to use the n character?\n",
    "\n",
    "#Ans: Multiline string allow us to use newlines in string without the \\n escape character.\n",
    "# Example:\n",
    "k = '''Krishna\n",
    "Biradar'''\n",
    "print(k)"
   ]
  },
  {
   "cell_type": "code",
   "execution_count": 5,
   "id": "c460b713",
   "metadata": {},
   "outputs": [],
   "source": [
    "#6.What are the values of the given expressions ?\n",
    "#Hello, world!'[1]\n",
    "#'Hello, world!'[0:5]\n",
    "#'Hello, world!'[:5]\n",
    "#'Hello, world!'[3:] \n",
    "\n",
    "\n",
    "\n",
    "#Ans:\n",
    "     #'Hello, world!'[1] >>>> 'e'\n",
    "     #'Hello, world!'[0:5] >>>> 'Hello'\n",
    "    #'Hello, world!'[:5] >>>>> 'Hello'\n",
    "    #'Hello, world!'[3:] >>>>> 'lo, world!'"
   ]
  },
  {
   "cell_type": "code",
   "execution_count": 15,
   "id": "35f16da2",
   "metadata": {},
   "outputs": [],
   "source": [
    "#7.What are the values of the following expressions ?\n",
    "#'Hello'.upper()\n",
    "#'Hello'.upper().isupper()\n",
    "#'Hello'.upper().lower()\n",
    "\n",
    "\n",
    "\n",
    "#Ans: 'Hello'.upper()>>>>>>>> 'HELLO'\n",
    "      #'Hello'.upper().isupper()>>>>>>>  True\n",
    "      #'Hello'.upper().lower()>>>>>>>>   'hello'\n"
   ]
  },
  {
   "cell_type": "code",
   "execution_count": 21,
   "id": "03fe6326",
   "metadata": {},
   "outputs": [],
   "source": [
    "#8. What are the values of the following expressions?\n",
    "#'Remember, remember, the fifth of July'.split()\n",
    "#' '.join('There can only one'.split())\n",
    "\n",
    "\n",
    "\n",
    "#Amns: 'Remember, remember, the fifth of July'.split() >>>>>>> ['Remember,', 'remember,', 'the', 'fifth', 'of', 'July']\n",
    "       \n",
    "        #' '.join('There can only one'.split()) >>>>>>>>>>>> 'There can only one'\n",
    "        "
   ]
  },
  {
   "cell_type": "code",
   "execution_count": null,
   "id": "5b29e3f9",
   "metadata": {},
   "outputs": [],
   "source": [
    "#9. What are the methods for right-justifying, left-justifying, and centering a string?\n",
    "\n",
    "#Ans: The rjust(),ljust(),center() string methods, respectively"
   ]
  },
  {
   "cell_type": "code",
   "execution_count": 35,
   "id": "28d2dffd",
   "metadata": {},
   "outputs": [],
   "source": [
    "#example:\n",
    "a='ygdfhlgfsklsf' "
   ]
  },
  {
   "cell_type": "code",
   "execution_count": 36,
   "id": "964b9220",
   "metadata": {},
   "outputs": [
    {
     "data": {
      "text/plain": [
       "'555555555555ygdfhlgfsklsf'"
      ]
     },
     "execution_count": 36,
     "metadata": {},
     "output_type": "execute_result"
    }
   ],
   "source": [
    "a.rjust(25,'5')"
   ]
  },
  {
   "cell_type": "code",
   "execution_count": 37,
   "id": "f91971ea",
   "metadata": {},
   "outputs": [
    {
     "data": {
      "text/plain": [
       "'ygdfhlgfsklsf555555555555'"
      ]
     },
     "execution_count": 37,
     "metadata": {},
     "output_type": "execute_result"
    }
   ],
   "source": [
    "a.ljust(25,'5')"
   ]
  },
  {
   "cell_type": "code",
   "execution_count": 41,
   "id": "ba6dc6a3",
   "metadata": {},
   "outputs": [
    {
     "data": {
      "text/plain": [
       "'555555ygdfhlgfsklsf555555'"
      ]
     },
     "execution_count": 41,
     "metadata": {},
     "output_type": "execute_result"
    }
   ],
   "source": [
    "a.center(25,\"5\")"
   ]
  },
  {
   "cell_type": "code",
   "execution_count": 42,
   "id": "8f25bf6c",
   "metadata": {},
   "outputs": [],
   "source": [
    "#10.What is the best way to remove whitespace characters from the start or end ?\n",
    "\n",
    "#Ans: we have to use lstrip() or .rstrip()"
   ]
  },
  {
   "cell_type": "code",
   "execution_count": 43,
   "id": "eb32e747",
   "metadata": {},
   "outputs": [],
   "source": [
    "a='       ygdfhlgfsklsf     '"
   ]
  },
  {
   "cell_type": "code",
   "execution_count": 44,
   "id": "d877c648",
   "metadata": {},
   "outputs": [
    {
     "data": {
      "text/plain": [
       "'ygdfhlgfsklsf     '"
      ]
     },
     "execution_count": 44,
     "metadata": {},
     "output_type": "execute_result"
    }
   ],
   "source": [
    "a.lstrip()"
   ]
  },
  {
   "cell_type": "code",
   "execution_count": 45,
   "id": "ee7a2fd2",
   "metadata": {},
   "outputs": [
    {
     "data": {
      "text/plain": [
       "'       ygdfhlgfsklsf'"
      ]
     },
     "execution_count": 45,
     "metadata": {},
     "output_type": "execute_result"
    }
   ],
   "source": [
    "a.rstrip()"
   ]
  }
 ],
 "metadata": {
  "kernelspec": {
   "display_name": "Python 3 (ipykernel)",
   "language": "python",
   "name": "python3"
  },
  "language_info": {
   "codemirror_mode": {
    "name": "ipython",
    "version": 3
   },
   "file_extension": ".py",
   "mimetype": "text/x-python",
   "name": "python",
   "nbconvert_exporter": "python",
   "pygments_lexer": "ipython3",
   "version": "3.9.12"
  }
 },
 "nbformat": 4,
 "nbformat_minor": 5
}
