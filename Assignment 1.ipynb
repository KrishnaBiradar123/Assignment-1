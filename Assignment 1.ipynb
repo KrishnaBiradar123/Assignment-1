{
 "cells": [
  {
   "cell_type": "markdown",
   "id": "e6b8c971",
   "metadata": {},
   "source": [
    "1.In the below elements which of them are values or an expression? eg:- values can be integer or string and expressions will be mathematical operators.\n",
    "* \n",
    "'hello'\n",
    "-87.8\n",
    "- \n",
    "/ \n",
    "+\t\n",
    "6 \n",
    "  "
   ]
  },
  {
   "cell_type": "markdown",
   "id": "0122e3de",
   "metadata": {},
   "source": [
    "values:       'hello', 6, -87.8\n",
    "        \n",
    "expressions:   *,   -,    /,    +   "
   ]
  },
  {
   "cell_type": "code",
   "execution_count": null,
   "id": "dfd47394",
   "metadata": {},
   "outputs": [],
   "source": []
  },
  {
   "cell_type": "raw",
   "id": "7171b7a3",
   "metadata": {},
   "source": []
  },
  {
   "cell_type": "markdown",
   "id": "1b9bb0bb",
   "metadata": {},
   "source": [
    "2.What is the difference between string and variable?"
   ]
  },
  {
   "cell_type": "markdown",
   "id": "3bebec4a",
   "metadata": {},
   "source": [
    "*string should be written in the form of \"---\" and '---'.            \n",
    "         *variable is thing in which stores data."
   ]
  },
  {
   "cell_type": "markdown",
   "id": "6fa7c249",
   "metadata": {},
   "source": []
  },
  {
   "cell_type": "markdown",
   "id": "8226520a",
   "metadata": {},
   "source": [
    "3.Describe three different data types."
   ]
  },
  {
   "cell_type": "markdown",
   "id": "de2a16bd",
   "metadata": {},
   "source": [
    "List: we can store diffrent kind of data in list.\n",
    "\n",
    "integer : here we can store only numericals or digits.\n",
    "        \n",
    "boolean : here we can store True/False type data and this type data is used for identifier.\n",
    "        "
   ]
  },
  {
   "cell_type": "markdown",
   "id": "1e2f7f4c",
   "metadata": {},
   "source": [
    "4.What is an expression made up of? What do all expressions do?"
   ]
  },
  {
   "cell_type": "markdown",
   "id": "c761c08b",
   "metadata": {},
   "source": [
    "Expression : it is combination of operators, variables and constants to represent a value. for example: X+Y-6=Z\n",
    "            expressions does represent values which is combinition of operators, variables and constants.\n",
    "        "
   ]
  },
  {
   "cell_type": "code",
   "execution_count": null,
   "id": "bb212d12",
   "metadata": {},
   "outputs": [],
   "source": []
  },
  {
   "cell_type": "markdown",
   "id": "d11aa418",
   "metadata": {},
   "source": [
    "5.This assignment statements, like spam = 10. What is the difference between an expression and a statement"
   ]
  },
  {
   "cell_type": "markdown",
   "id": "190dd510",
   "metadata": {},
   "source": [
    "Expression contains operators, variables and constants.\n",
    "\n",
    "Statement contains only command just like combination of words to print in python interpretor."
   ]
  },
  {
   "cell_type": "markdown",
   "id": "21d05a42",
   "metadata": {},
   "source": [
    "6.After running the following code, what does the variable bacon contain?\n",
    "bacon = 22\n",
    "bacon + 1\n"
   ]
  },
  {
   "cell_type": "code",
   "execution_count": 6,
   "id": "bf54524b",
   "metadata": {},
   "outputs": [
    {
     "data": {
      "text/plain": [
       "23"
      ]
     },
     "execution_count": 6,
     "metadata": {},
     "output_type": "execute_result"
    }
   ],
   "source": [
    "bacon=22\n",
    "bacon+1"
   ]
  },
  {
   "cell_type": "markdown",
   "id": "7bd3e0a6",
   "metadata": {},
   "source": [
    "after the above code variable bacon contains  23"
   ]
  },
  {
   "cell_type": "code",
   "execution_count": null,
   "id": "466eebf9",
   "metadata": {},
   "outputs": [],
   "source": []
  },
  {
   "cell_type": "markdown",
   "id": "e662e296",
   "metadata": {},
   "source": [
    "7.What should the values of the following two terms be?\n",
    "'spam' + 'spamspam'\n"
   ]
  },
  {
   "cell_type": "code",
   "execution_count": 9,
   "id": "64b4c938",
   "metadata": {},
   "outputs": [
    {
     "data": {
      "text/plain": [
       "'spamspamspam'"
      ]
     },
     "execution_count": 9,
     "metadata": {},
     "output_type": "execute_result"
    }
   ],
   "source": [
    "'spam' + 'spamspam'"
   ]
  },
  {
   "cell_type": "code",
   "execution_count": 8,
   "id": "60594196",
   "metadata": {},
   "outputs": [
    {
     "data": {
      "text/plain": [
       "'spamspamspam'"
      ]
     },
     "execution_count": 8,
     "metadata": {},
     "output_type": "execute_result"
    }
   ],
   "source": [
    "'spam'*3"
   ]
  },
  {
   "cell_type": "code",
   "execution_count": null,
   "id": "4418a8f1",
   "metadata": {},
   "outputs": [],
   "source": []
  },
  {
   "cell_type": "markdown",
   "id": "3c58dc72",
   "metadata": {},
   "source": [
    "8.Why is eggs a valid variable name while 100 is invalid?"
   ]
  },
  {
   "cell_type": "markdown",
   "id": "21f3a947",
   "metadata": {},
   "source": [
    "we can't store input as integer because python won't recognize it. so instead of this we can use eggs10, eggs00, eggs100 etc."
   ]
  },
  {
   "cell_type": "code",
   "execution_count": null,
   "id": "8b4b3994",
   "metadata": {},
   "outputs": [],
   "source": []
  },
  {
   "cell_type": "markdown",
   "id": "ae0252a2",
   "metadata": {},
   "source": [
    "9.What three functions can be used to get the integer, floating-point number, or string version of a value?"
   ]
  },
  {
   "cell_type": "markdown",
   "id": "52bd9976",
   "metadata": {},
   "source": [
    "str(), int(), float() these are the three functions that we can use to get integer, floating-point number or string version value."
   ]
  },
  {
   "cell_type": "markdown",
   "id": "1b346a1d",
   "metadata": {},
   "source": []
  },
  {
   "cell_type": "markdown",
   "id": "53c80aa5",
   "metadata": {},
   "source": [
    "10.Why does this expression cause an error? How can you fix it?\n",
    "'I have eaten ' + 99 + ' burritos.'\n"
   ]
  },
  {
   "cell_type": "markdown",
   "id": "ff2d1867",
   "metadata": {},
   "source": [
    "it cause error because in the above problem we are trying to do concatenate operation between 'str' and 'int'. so in           python while doing concatenate operation we should use same data type i.e 'str'.\n",
    "        we can solve the above problem by converting 'int' type data into 'str' type data then we can fix the error.\n"
   ]
  },
  {
   "cell_type": "code",
   "execution_count": 10,
   "id": "4d76e2a8",
   "metadata": {},
   "outputs": [
    {
     "data": {
      "text/plain": [
       "'i have eaten99burritos'"
      ]
     },
     "execution_count": 10,
     "metadata": {},
     "output_type": "execute_result"
    }
   ],
   "source": [
    "'i have eaten' + '99' + 'burritos'"
   ]
  },
  {
   "cell_type": "code",
   "execution_count": null,
   "id": "a7064bb6",
   "metadata": {},
   "outputs": [],
   "source": []
  }
 ],
 "metadata": {
  "kernelspec": {
   "display_name": "Python 3 (ipykernel)",
   "language": "python",
   "name": "python3"
  },
  "language_info": {
   "codemirror_mode": {
    "name": "ipython",
    "version": 3
   },
   "file_extension": ".py",
   "mimetype": "text/x-python",
   "name": "python",
   "nbconvert_exporter": "python",
   "pygments_lexer": "ipython3",
   "version": "3.9.12"
  }
 },
 "nbformat": 4,
 "nbformat_minor": 5
}
